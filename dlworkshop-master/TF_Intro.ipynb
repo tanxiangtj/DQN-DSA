{
 "cells": [
  {
   "cell_type": "code",
   "execution_count": 33,
   "metadata": {
    "button": false,
    "collapsed": true,
    "deletable": true,
    "new_sheet": false,
    "run_control": {
     "read_only": false
    }
   },
   "outputs": [],
   "source": [
    "import tensorflow as tf"
   ]
  },
  {
   "cell_type": "code",
   "execution_count": 34,
   "metadata": {
    "button": false,
    "collapsed": true,
    "deletable": true,
    "new_sheet": false,
    "run_control": {
     "read_only": false
    }
   },
   "outputs": [],
   "source": [
    "a = tf.constant(4)\n",
    "b = tf.constant(3)"
   ]
  },
  {
   "cell_type": "markdown",
   "metadata": {
    "button": false,
    "deletable": true,
    "new_sheet": false,
    "run_control": {
     "read_only": false
    }
   },
   "source": [
    "![Constant](imgs/1.png)"
   ]
  },
  {
   "cell_type": "code",
   "execution_count": 35,
   "metadata": {
    "button": false,
    "collapsed": false,
    "deletable": true,
    "new_sheet": false,
    "run_control": {
     "read_only": false
    }
   },
   "outputs": [
    {
     "name": "stdout",
     "output_type": "stream",
     "text": [
      "a= 4 , b= 3\n",
      "a+b= 7\n",
      "a*b= 12\n"
     ]
    }
   ],
   "source": [
    "with tf.Session() as sess:\n",
    "    print \"a=\",sess.run(a), \", b=\" , sess.run(b)\n",
    "    print \"a+b=\" , sess.run(a+b)\n",
    "    print \"a*b=\" , sess.run(a*b)"
   ]
  },
  {
   "cell_type": "code",
   "execution_count": 36,
   "metadata": {
    "button": false,
    "collapsed": true,
    "deletable": true,
    "new_sheet": false,
    "run_control": {
     "read_only": false
    }
   },
   "outputs": [],
   "source": [
    "# Define operation operations\n",
    "c = tf.add(a, b)\n",
    "d = tf.multiply(a, b)"
   ]
  },
  {
   "cell_type": "markdown",
   "metadata": {
    "button": false,
    "deletable": true,
    "new_sheet": false,
    "run_control": {
     "read_only": false
    }
   },
   "source": [
    "![op graph](imgs/2.png)"
   ]
  },
  {
   "cell_type": "code",
   "execution_count": 37,
   "metadata": {
    "button": false,
    "collapsed": false,
    "deletable": true,
    "new_sheet": false,
    "run_control": {
     "read_only": false
    }
   },
   "outputs": [
    {
     "name": "stdout",
     "output_type": "stream",
     "text": [
      "c=a+b= 7\n",
      "d=a*b= 12\n"
     ]
    }
   ],
   "source": [
    "with tf.Session() as sess:\n",
    "    print \"c=a+b=\" , sess.run(c)\n",
    "    print \"d=a*b=\" , sess.run(d)"
   ]
  },
  {
   "cell_type": "code",
   "execution_count": 38,
   "metadata": {
    "button": false,
    "collapsed": true,
    "deletable": true,
    "new_sheet": false,
    "run_control": {
     "read_only": false
    }
   },
   "outputs": [],
   "source": [
    "a = tf.placeholder(tf.int16)\n",
    "b = tf.placeholder(tf.int16)\n",
    "c = tf.add(a, b)"
   ]
  },
  {
   "cell_type": "code",
   "execution_count": 39,
   "metadata": {
    "button": false,
    "collapsed": false,
    "deletable": true,
    "new_sheet": false,
    "run_control": {
     "read_only": false
    }
   },
   "outputs": [
    {
     "name": "stdout",
     "output_type": "stream",
     "text": [
      "a=2,b=3, a+b= 5\n",
      "a=10,b=7, a+b= 17\n"
     ]
    }
   ],
   "source": [
    "with tf.Session() as sess:\n",
    "    # Run the operation with variable input\n",
    "    print \"a=2,b=3, a+b=\" , sess.run(c, feed_dict={a: 2, b: 3})\n",
    "    print \"a=10,b=7, a+b=\" , sess.run(c, feed_dict={a: 10, b: 7})"
   ]
  },
  {
   "cell_type": "code",
   "execution_count": 40,
   "metadata": {
    "button": false,
    "collapsed": true,
    "deletable": true,
    "new_sheet": false,
    "run_control": {
     "read_only": false
    }
   },
   "outputs": [],
   "source": [
    "import pandas\n",
    "dataset=pandas.read_csv('dataset.csv')"
   ]
  },
  {
   "cell_type": "code",
   "execution_count": 45,
   "metadata": {
    "button": false,
    "collapsed": false,
    "deletable": true,
    "new_sheet": false,
    "run_control": {
     "read_only": false
    }
   },
   "outputs": [
    {
     "name": "stdout",
     "output_type": "stream",
     "text": [
      "a=1,b=2, a+b= 3\n",
      "a=3,b=4, a+b= 7\n",
      "a=5,b=6, a+b= 11\n",
      "a=7,b=8, a+b= 15\n",
      "a=9,b=10, a+b= 19\n",
      "a=11,b=12, a+b= 23\n",
      "a=13,b=14, a+b= 27\n",
      "a=15,b=16, a+b= 31\n",
      "a=17,b=18, a+b= 35\n",
      "a=19,b=20, a+b= 39\n",
      "a=21,b=22, a+b= 43\n",
      "a=23,b=24, a+b= 47\n",
      "a=25,b=26, a+b= 51\n",
      "a=27,b=28, a+b= 55\n",
      "a=29,b=30, a+b= 59\n",
      "a=31,b=32, a+b= 63\n",
      "a=33,b=34, a+b= 67\n",
      "a=35,b=36, a+b= 71\n",
      "a=37,b=38, a+b= 75\n",
      "a=39,b=40, a+b= 79\n"
     ]
    }
   ],
   "source": [
    "setx=dataset.values[:,0]\n",
    "sety=dataset.values[:,1]\n",
    "with tf.Session() as sess:\n",
    "    for x,y in zip(setx,sety):\n",
    "        print \"a=%d,b=%d, a+b=\"%(x,y) , sess.run(c, feed_dict={a: x, b: y})\n"
   ]
  },
  {
   "cell_type": "markdown",
   "metadata": {
    "button": false,
    "deletable": true,
    "new_sheet": false,
    "run_control": {
     "read_only": false
    }
   },
   "source": [
    "## Trainable parameters --> Variables"
   ]
  },
  {
   "cell_type": "code",
   "execution_count": 171,
   "metadata": {
    "button": false,
    "collapsed": false,
    "deletable": true,
    "new_sheet": false,
    "run_control": {
     "read_only": false
    }
   },
   "outputs": [
    {
     "name": "stdout",
     "output_type": "stream",
     "text": [
      "a= [0.6948331 1.1869332]\n",
      "b= [0.]\n",
      "b= [1.]\n"
     ]
    }
   ],
   "source": [
    "a = tf.Variable(tf.random_normal([2]))\n",
    "b = tf.Variable(tf.zeros([1]))\n",
    "init_op = tf.global_variables_initializer()\n",
    "\n",
    "with tf.Session() as sess:\n",
    "    sess.run(init_op)\n",
    "    print \"a=\",sess.run(a)\n",
    "    print \"b=\",sess.run(b)\n",
    "    b=b+1\n",
    "    print \"b=\",sess.run(b)"
   ]
  }
 ],
 "metadata": {
  "kernelspec": {
   "display_name": "Python 2",
   "language": "python",
   "name": "python2"
  },
  "language_info": {
   "codemirror_mode": {
    "name": "ipython",
    "version": 2
   },
   "file_extension": ".py",
   "mimetype": "text/x-python",
   "name": "python",
   "nbconvert_exporter": "python",
   "pygments_lexer": "ipython2",
   "version": "2.7.14"
  }
 },
 "nbformat": 4,
 "nbformat_minor": 2
}
