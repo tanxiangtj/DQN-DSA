{
 "cells": [
  {
   "cell_type": "code",
   "execution_count": 3,
   "metadata": {
    "button": false,
    "collapsed": false,
    "deletable": true,
    "new_sheet": false,
    "run_control": {
     "read_only": false
    }
   },
   "outputs": [
    {
     "name": "stdout",
     "output_type": "stream",
     "text": [
      "_________________________________________________________________\n",
      "Layer (type)                 Output Shape              Param #   \n",
      "=================================================================\n",
      "dense_2 (Dense)              (None, 1)                 2         \n",
      "=================================================================\n",
      "Total params: 2.0\n",
      "Trainable params: 2\n",
      "Non-trainable params: 0.0\n",
      "_________________________________________________________________\n",
      "None\n"
     ]
    }
   ],
   "source": [
    "from tensorflow.contrib.keras import models\n",
    "from tensorflow.contrib.keras import layers\n",
    "from tensorflow.contrib import keras\n",
    "import pandas\n",
    "dataset=pandas.read_csv('dataset.csv')\n",
    "setx=dataset.values[:,0]\n",
    "sety=dataset.values[:,1]\n",
    "\n",
    "model = models.Sequential([layers.Dense(1, input_shape=(1,))])\n",
    "# Use Adam optimizier and Mean Squared Error (MSE) as loss function\n",
    "model.compile(optimizer=keras.optimizers.Adamax(0.1), loss='mse') \n",
    "print model.summary() "
   ]
  },
  {
   "cell_type": "code",
   "execution_count": 4,
   "metadata": {
    "button": false,
    "collapsed": false,
    "deletable": true,
    "new_sheet": false,
    "run_control": {
     "read_only": false
    }
   },
   "outputs": [
    {
     "data": {
      "text/plain": [
       "[31.88231716528535,\n",
       " 0.02045083850098308,\n",
       " 0.009396455676323967,\n",
       " 0.0034374483724604944,\n",
       " 0.0010256565983581822,\n",
       " 0.0002667229771759594,\n",
       " 3.7077795241202693e-05,\n",
       " 3.619184462877456e-06,\n",
       " 2.1000409162752475e-07,\n",
       " 5.915615020057885e-09]"
      ]
     },
     "execution_count": 4,
     "metadata": {},
     "output_type": "execute_result"
    }
   ],
   "source": [
    "traininglog=model.fit(setx, sety, epochs=100, batch_size=1,verbose=0)\n",
    "traininglog.history['loss'][::10] # print every 10 epochs"
   ]
  },
  {
   "cell_type": "code",
   "execution_count": 5,
   "metadata": {
    "button": false,
    "collapsed": false,
    "deletable": true,
    "new_sheet": false,
    "run_control": {
     "read_only": false
    }
   },
   "outputs": [
    {
     "data": {
      "image/png": "[encoded data removed]",
      "text/plain": [
       "<matplotlib.figure.Figure at 0x7feda086f210>"
      ]
     },
     "metadata": {},
     "output_type": "display_data"
    }
   ],
   "source": [
    "trained_m = model.get_weights()[0][0][0]\n",
    "trained_c = model.get_weights()[1][0] \n",
    "import matplotlib.pyplot as plt\n",
    "plt.plot(setx, trained_m * setx + trained_c, label='Fitted line')\n",
    "plt.plot(setx, sety, 'ro', label='Data')\n",
    "plt.legend()\n",
    "plt.show()"
   ]
  },
  {
   "cell_type": "code",
   "execution_count": null,
   "metadata": {
    "button": false,
    "collapsed": true,
    "deletable": true,
    "new_sheet": false,
    "run_control": {
     "read_only": false
    }
   },
   "outputs": [],
   "source": []
  },
  {
   "cell_type": "code",
   "execution_count": null,
   "metadata": {
    "button": false,
    "collapsed": true,
    "deletable": true,
    "new_sheet": false,
    "run_control": {
     "read_only": false
    }
   },
   "outputs": [],
   "source": []
  },
  {
   "cell_type": "code",
   "execution_count": null,
   "metadata": {
    "button": false,
    "collapsed": true,
    "deletable": true,
    "new_sheet": false,
    "run_control": {
     "read_only": false
    }
   },
   "outputs": [],
   "source": []
  }
 ],
 "metadata": {
  "kernelspec": {
   "display_name": "Python 2",
   "language": "python",
   "name": "python2"
  },
  "language_info": {
   "codemirror_mode": {
    "name": "ipython",
    "version": 2
   },
   "file_extension": ".py",
   "mimetype": "text/x-python",
   "name": "python",
   "nbconvert_exporter": "python",
   "pygments_lexer": "ipython2",
   "version": "2.7.14"
  }
 },
 "nbformat": 4,
 "nbformat_minor": 2
}
