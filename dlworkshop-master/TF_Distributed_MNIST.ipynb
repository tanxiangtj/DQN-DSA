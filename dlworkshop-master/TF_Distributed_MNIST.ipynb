{
 "cells": [
  {
   "cell_type": "code",
   "execution_count": 2,
   "metadata": {},
   "outputs": [
    {
     "name": "stdout",
     "output_type": "stream",
     "text": [
      "Extracting ./train-images-idx3-ubyte.gz\n",
      "Extracting ./train-labels-idx1-ubyte.gz\n",
      "Extracting ./t10k-images-idx3-ubyte.gz\n",
      "Extracting ./t10k-labels-idx1-ubyte.gz\n"
     ]
    }
   ],
   "source": [
    "from __future__ import print_function\n",
    "\n",
    "import numpy as np\n",
    "import tensorflow as tf\n",
    "import time\n",
    "\n",
    "from tensorflow.examples.tutorials.mnist import input_data\n",
    "mnist = input_data.read_data_sets(\"./\", one_hot=True)\n",
    "\n",
    "learning_rate = 0.001\n",
    "num_input = 784 # MNIST data input (img shape: 28*28)\n",
    "num_classes = 10 # MNIST total classes (0-9 digits)\n",
    "dropout = 0.75 # Dropout, probability to keep units"
   ]
  },
  {
   "cell_type": "code",
   "execution_count": 2,
   "metadata": {
    "collapsed": true
   },
   "outputs": [],
   "source": [
    "def conv_net(x, n_classes, dropout, reuse, is_training):\n",
    "    with tf.variable_scope('ConvNet', reuse=reuse):\n",
    "        x = tf.reshape(x, shape=[-1, 28, 28, 1])\n",
    "        x = tf.layers.conv2d(x, 64, 5, activation=tf.nn.relu)\n",
    "        x = tf.layers.max_pooling2d(x, 2, 2)\n",
    "        x = tf.layers.conv2d(x, 256, 3, activation=tf.nn.relu)\n",
    "        x = tf.layers.conv2d(x, 512, 3, activation=tf.nn.relu)\n",
    "        x = tf.layers.max_pooling2d(x, 2, 2)\n",
    "        x = tf.contrib.layers.flatten(x)\n",
    "        x = tf.layers.dense(x, 2048)\n",
    "        x = tf.layers.dropout(x, rate=dropout, training=is_training)\n",
    "        x = tf.layers.dense(x, 1024)\n",
    "        x = tf.layers.dropout(x, rate=dropout, training=is_training)\n",
    "        out = tf.layers.dense(x, n_classes)\n",
    "        out = tf.nn.softmax(out) if not is_training else out\n",
    "    return out"
   ]
  },
  {
   "cell_type": "code",
   "execution_count": 3,
   "metadata": {
    "collapsed": true
   },
   "outputs": [],
   "source": [
    "def average_gradients(tower_grads):\n",
    "    average_grads = []\n",
    "    for grad_and_vars in zip(*tower_grads):\n",
    "        grads = []\n",
    "        for g, _ in grad_and_vars:\n",
    "            expanded_g = tf.expand_dims(g, 0)\n",
    "            grads.append(expanded_g)\n",
    "        grad = tf.concat(grads, 0)\n",
    "        grad = tf.reduce_mean(grad, 0)\n",
    "        v = grad_and_vars[0][1]\n",
    "        grad_and_var = (grad, v)\n",
    "        average_grads.append(grad_and_var)\n",
    "    return average_grads"
   ]
  },
  {
   "cell_type": "code",
   "execution_count": 4,
   "metadata": {
    "collapsed": true
   },
   "outputs": [],
   "source": [
    "PS_OPS = ['Variable', 'VariableV2', 'AutoReloadVariable']\n",
    "def assign_to_device(device, ps_device='/cpu:0'):\n",
    "    def _assign(op):\n",
    "        node_def = op if isinstance(op, tf.NodeDef) else op.node_def\n",
    "        if node_def.op in PS_OPS:\n",
    "            return \"/\" + ps_device\n",
    "        else:\n",
    "            return device\n",
    "    return _assign"
   ]
  },
  {
   "cell_type": "code",
   "execution_count": 66,
   "metadata": {},
   "outputs": [
    {
     "name": "stdout",
     "output_type": "stream",
     "text": [
      "Training with 1 GPUs\n",
      "Step 1, Training Accuracy= 0.165\n",
      "Step 80, Training Accuracy= 0.993\n",
      "Step 160, Training Accuracy= 0.998\n",
      "Expected Training time for 10 epoches is 64.75 seconds with 1 GPUs\n",
      "Training with 2 GPUs\n",
      "Step 1, Training Accuracy= 0.458\n",
      "Step 80, Training Accuracy= 0.995\n",
      "Step 160, Training Accuracy= 0.999\n",
      "Expected Training time for 10 epoches is 57.49 seconds with 2 GPUs\n",
      "Training with 3 GPUs\n",
      "Step 1, Training Accuracy= 0.290\n",
      "Step 80, Training Accuracy= 0.996\n",
      "Step 160, Training Accuracy= 1.000\n",
      "Expected Training time for 10 epoches is 52.17 seconds with 3 GPUs\n",
      "Training with 4 GPUs\n",
      "Step 1, Training Accuracy= 0.259\n",
      "Step 80, Training Accuracy= 0.996\n",
      "Step 160, Training Accuracy= 1.000\n",
      "Expected Training time for 10 epoches is 49.59 seconds with 4 GPUs\n"
     ]
    }
   ],
   "source": [
    "num_steps = 160\n",
    "batch_size = 4*1024\n",
    "display_step = 80\n",
    "gpus=[1,2,3,4]\n",
    "t=[]\n",
    "for num_gpus in gpus:\n",
    "    tf.reset_default_graph()\n",
    "    print(\"Training with %i GPUs\" % num_gpus)\n",
    "    with tf.device('/cpu:0'):\n",
    "        tower_grads = []\n",
    "        reuse_vars = False\n",
    "        X = tf.placeholder(tf.float32, [None, num_input])\n",
    "        Y = tf.placeholder(tf.float32, [None, num_classes])\n",
    "        for i in range(num_gpus):\n",
    "            with tf.device(assign_to_device('/gpu:{}'.format(i), ps_device='/cpu:0')):\n",
    "                _x = X[i * batch_size: (i+1) * batch_size]\n",
    "                _y = Y[i * batch_size: (i+1) * batch_size]\n",
    "                logits_train = conv_net(_x, num_classes, dropout,reuse=reuse_vars, is_training=True)\n",
    "                logits_test = conv_net(_x, num_classes, dropout,reuse=True, is_training=False)\n",
    "                loss_op = tf.reduce_mean(tf.nn.softmax_cross_entropy_with_logits(\n",
    "                    logits=logits_train, labels=_y))\n",
    "                optimizer = tf.train.AdamOptimizer(learning_rate=learning_rate)\n",
    "                grads = optimizer.compute_gradients(loss_op)\n",
    "                if i == 0:\n",
    "                    correct_pred = tf.equal(tf.argmax(logits_test, 1), tf.argmax(_y, 1))\n",
    "                    accuracy = tf.reduce_mean(tf.cast(correct_pred, tf.float32))\n",
    "                reuse_vars = True\n",
    "                tower_grads.append(grads)\n",
    "        tower_grads = average_gradients(tower_grads)\n",
    "        train_op = optimizer.apply_gradients(tower_grads)\n",
    "        init = tf.global_variables_initializer()\n",
    "        with tf.Session() as sess:\n",
    "            sess.run(init)\n",
    "            step = 1\n",
    "            ts = time.time()\n",
    "            for step in range(1, num_steps + 1):\n",
    "                batch_x, batch_y = mnist.train.next_batch(batch_size * num_gpus)\n",
    "                sess.run(train_op, feed_dict={X: batch_x, Y: batch_y})\n",
    "                if step % display_step == 0 or step == 1:\n",
    "                    loss, acc = sess.run([loss_op, accuracy], feed_dict={X: batch_x,Y: batch_y})\n",
    "                    print(\"Step \" + str(step) + \", Training Accuracy= \" + \"{:.3f}\".format(acc)) \n",
    "                step += 1\n",
    "        t.append((time.time() - ts)*10*mnist.train.num_examples/(batch_x.shape[0]*num_steps))\n",
    "        print(\"Expected Training time for 10 epoches is %.2f seconds with %d GPUs\"%(t[-1],num_gpus))\n",
    "                        "
   ]
  },
  {
   "cell_type": "code",
   "execution_count": 68,
   "metadata": {},
   "outputs": [
    {
     "data": {
      "image/png": "[encoded data removed]",
      "text/plain": [
       "<matplotlib.figure.Figure at 0x3bffffd4efd0>"
      ]
     },
     "metadata": {},
     "output_type": "display_data"
    }
   ],
   "source": [
    "import matplotlib.pyplot as plt\n",
    "plt.plot(gpus, t, label='Epochs:10, Batch:%d' % batch_size)\n",
    "plt.xlabel(\"Number of GPUs\")\n",
    "plt.ylabel(\"Training Time in Seconds\")\n",
    "plt.xticks(np.arange(1,5, 1))\n",
    "plt.legend()\n",
    "plt.show()"
   ]
  },
  {
   "cell_type": "code",
   "execution_count": null,
   "metadata": {
    "collapsed": true
   },
   "outputs": [],
   "source": []
  }
 ],
 "metadata": {
  "kernelspec": {
   "display_name": "Python 2",
   "language": "python",
   "name": "python2"
  },
  "language_info": {
   "codemirror_mode": {
    "name": "ipython",
    "version": 2
   },
   "file_extension": ".py",
   "mimetype": "text/x-python",
   "name": "python",
   "nbconvert_exporter": "python",
   "pygments_lexer": "ipython2",
   "version": "2.7.14"
  }
 },
 "nbformat": 4,
 "nbformat_minor": 2
}
