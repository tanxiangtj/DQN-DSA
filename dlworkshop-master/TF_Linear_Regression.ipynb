{
 "cells": [
  {
   "cell_type": "code",
   "execution_count": 1,
   "metadata": {
    "collapsed": true
   },
   "outputs": [],
   "source": [
    "import tensorflow as tf\n",
    "import pandas\n",
    "dataset=pandas.read_csv('dataset.csv')\n",
    "setx=dataset.values[:,0]\n",
    "sety=dataset.values[:,1]"
   ]
  },
  {
   "cell_type": "markdown",
   "metadata": {},
   "source": [
    "## Linear Regression ![op graph](imgs/3.jpg)"
   ]
  },
  {
   "cell_type": "code",
   "execution_count": 2,
   "metadata": {
    "collapsed": true
   },
   "outputs": [],
   "source": [
    "# Graph inputs\n",
    "X = tf.placeholder(\"float\")\n",
    "Y = tf.placeholder(\"float\")\n",
    "\n",
    "# model weights\n",
    "m = tf.Variable(tf.random_normal([1]), name=\"weight\")\n",
    "c = tf.Variable(tf.random_normal([1]), name=\"bias\")\n",
    "\n",
    "# a linear model\n",
    "prediction = tf.add(tf.multiply(X, m), c)\n",
    "\n",
    "# Mean squared error\n",
    "cost = tf.reduce_sum(tf.pow(prediction-Y, 2))\n",
    "\n",
    "# use an optimizer to update the variables.\n",
    "optimizer = tf.train.AdamOptimizer().minimize(cost)\n",
    "\n",
    "# Add an op to initialize the variables.\n",
    "init_op = tf.global_variables_initializer()"
   ]
  },
  {
   "cell_type": "code",
   "execution_count": 3,
   "metadata": {},
   "outputs": [
    {
     "name": "stdout",
     "output_type": "stream",
     "text": [
      "Epoch: 0 cost= 1606.203613281 m= [1.4428769] c= [-0.4938739]\n",
      "Epoch: 10 cost= 659.087280273 m= [1.3077588] c= [-0.6432813]\n",
      "Epoch: 20 cost= 233.821746826 m= [1.2087889] c= [-0.7481768]\n",
      "Epoch: 30 cost= 75.041000366 m= [1.1421536] c= [-0.811359]\n",
      "Epoch: 40 cost= 29.029804230 m= [1.1027604] c= [-0.83829737]\n",
      "Epoch: 50 cost= 18.833263397 m= [1.0825619] c= [-0.8385191]\n",
      "Epoch: 60 cost= 16.837463379 m= [1.0734102] c= [-0.8219404]\n",
      "Epoch: 70 cost= 16.137701035 m= [1.0694057] c= [-0.79579556]\n",
      "Epoch: 80 cost= 15.543794632 m= [1.0673091] c= [-0.7640704]\n",
      "Epoch: 90 cost= 14.918696404 m= [1.0657293] c= [-0.72850513]\n",
      "Optimization Finished!\n"
     ]
    }
   ],
   "source": [
    "# Start training\n",
    "with tf.Session() as sess:\n",
    "    sess.run(init_op)\n",
    "    # Fit all training data\n",
    "    for epoch in range(100):\n",
    "        for (x, y) in zip(setx, sety):\n",
    "            sess.run(optimizer, feed_dict={X: x, Y: y})\n",
    "        # Display summaries every 10 epochs\n",
    "        if epoch % 10 ==0:\n",
    "            err = sess.run(cost, feed_dict={X: setx, Y:sety})\n",
    "            print \"Epoch:\", epoch, \"cost=\", \"{:.9f}\".format(err), \"m=\", sess.run(m), \"c=\", sess.run(c)\n",
    "    trained_m=sess.run(m)\n",
    "    trained_c=sess.run(c)\n",
    "    print \"Optimization Finished!\"\n"
   ]
  },
  {
   "cell_type": "code",
   "execution_count": 4,
   "metadata": {},
   "outputs": [
    {
     "data": {
      "image/png": "[encoded data removed]",
      "text/plain": [
       "<matplotlib.figure.Figure at 0x7ff138ae7190>"
      ]
     },
     "metadata": {},
     "output_type": "display_data"
    }
   ],
   "source": [
    "import matplotlib.pyplot as plt\n",
    "plt.plot(setx, trained_m * setx + trained_c, label='Fitted line')\n",
    "plt.plot(setx, sety, 'ro', label='Data')\n",
    "plt.legend()\n",
    "plt.show()"
   ]
  }
 ],
 "metadata": {
  "kernelspec": {
   "display_name": "Python 2",
   "language": "python",
   "name": "python2"
  },
  "language_info": {
   "codemirror_mode": {
    "name": "ipython",
    "version": 2
   },
   "file_extension": ".py",
   "mimetype": "text/x-python",
   "name": "python",
   "nbconvert_exporter": "python",
   "pygments_lexer": "ipython2",
   "version": "2.7.14"
  }
 },
 "nbformat": 4,
 "nbformat_minor": 2
}
