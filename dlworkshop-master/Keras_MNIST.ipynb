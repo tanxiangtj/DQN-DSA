{
 "cells": [
  {
   "cell_type": "markdown",
   "metadata": {},
   "source": [
    "## MNIST Dataset Introduction\n",
    "A dataset of handwritten digits. The dataset contains 60,000 examples for training and 10,000 examples for testing. The digits have been size-normalized and centered in a fixed-size image (28x28 pixels) with values from 0 to 1.\n",
    "![Samples from MNIST](imgs/mnist.png)"
   ]
  },
  {
   "cell_type": "code",
   "execution_count": 13,
   "metadata": {},
   "outputs": [
    {
     "name": "stdout",
     "output_type": "stream",
     "text": [
      "Training data shape  (60000, 28, 28)\n"
     ]
    }
   ],
   "source": [
    "from tensorflow.contrib import keras\n",
    "from tensorflow.contrib.keras.python.keras.datasets import mnist\n",
    "(x_train, y_train), (x_test, y_test) = mnist.load_data() # will download the dataset the first time\n",
    "print \"Training data shape \", x_train.shape"
   ]
  },
  {
   "cell_type": "markdown",
   "metadata": {},
   "source": [
    "## Simple Neural Network ![Neural Network](imgs/nn.jpeg)\n",
    "## Prepare the dataset"
   ]
  },
  {
   "cell_type": "code",
   "execution_count": 15,
   "metadata": {
    "collapsed": true
   },
   "outputs": [],
   "source": [
    "x_train = x_train.reshape(60000, 784)\n",
    "x_test = x_test.reshape(10000, 784)\n",
    "x_train = x_train.astype('float32')\n",
    "x_test = x_test.astype('float32')\n",
    "x_train /= 255\n",
    "x_test /= 255\n",
    "# convert class vectors to binary class matrices\n",
    "y_train = keras.utils.to_categorical(y_train, 10)\n",
    "y_test = keras.utils.to_categorical(y_test, 10)"
   ]
  },
  {
   "cell_type": "markdown",
   "metadata": {},
   "source": [
    "## Build the model"
   ]
  },
  {
   "cell_type": "code",
   "execution_count": 44,
   "metadata": {},
   "outputs": [
    {
     "name": "stdout",
     "output_type": "stream",
     "text": [
      "Model size: 0.27 million parameters\n"
     ]
    }
   ],
   "source": [
    "from tensorflow.contrib.keras.python.keras.models import Sequential\n",
    "from tensorflow.contrib.keras.python.keras.layers import Dense, Dropout\n",
    "\n",
    "model = Sequential()\n",
    "model.add(Dense(256, activation='relu', input_shape=(784,))) # must match input shape\n",
    "model.add(Dropout(0.2))\n",
    "model.add(Dense(256, activation='relu'))\n",
    "model.add(Dropout(0.2))\n",
    "model.add(Dense(10, activation='softmax')) # must match the number of classes in the dataset\n",
    "print \"Model size: %.2f\"%(model.count_params()/1000000.0), \"million parameters\""
   ]
  },
  {
   "cell_type": "markdown",
   "metadata": {},
   "source": [
    "## Train the model"
   ]
  },
  {
   "cell_type": "code",
   "execution_count": 24,
   "metadata": {},
   "outputs": [
    {
     "name": "stdout",
     "output_type": "stream",
     "text": [
      "Train on 60000 samples, validate on 10000 samples\n",
      "Epoch 1/10\n",
      "60000/60000 [==============================] - 4s - loss: 1.2930 - acc: 0.6050 - val_loss: 0.6149 - val_acc: 0.8189\n",
      "Epoch 2/10\n",
      "60000/60000 [==============================] - 4s - loss: 0.5251 - acc: 0.8411 - val_loss: 0.3880 - val_acc: 0.8828\n",
      "Epoch 3/10\n",
      "60000/60000 [==============================] - 4s - loss: 0.3954 - acc: 0.8825 - val_loss: 0.3213 - val_acc: 0.9054\n",
      "Epoch 4/10\n",
      "60000/60000 [==============================] - 4s - loss: 0.3400 - acc: 0.9002 - val_loss: 0.2796 - val_acc: 0.9173\n",
      "Epoch 5/10\n",
      "60000/60000 [==============================] - 3s - loss: 0.2989 - acc: 0.9111 - val_loss: 0.2513 - val_acc: 0.9238\n",
      "Epoch 6/10\n",
      "60000/60000 [==============================] - 4s - loss: 0.2675 - acc: 0.9203 - val_loss: 0.2240 - val_acc: 0.9320\n",
      "Epoch 7/10\n",
      "60000/60000 [==============================] - 3s - loss: 0.2410 - acc: 0.9279 - val_loss: 0.2020 - val_acc: 0.9395\n",
      "Epoch 8/10\n",
      "60000/60000 [==============================] - 3s - loss: 0.2202 - acc: 0.9350 - val_loss: 0.1856 - val_acc: 0.9424\n",
      "Epoch 9/10\n",
      "60000/60000 [==============================] - 4s - loss: 0.2008 - acc: 0.9406 - val_loss: 0.1698 - val_acc: 0.9477\n",
      "Epoch 10/10\n",
      "60000/60000 [==============================] - 3s - loss: 0.1855 - acc: 0.9449 - val_loss: 0.1563 - val_acc: 0.9527\n"
     ]
    }
   ],
   "source": [
    "model.compile(loss='categorical_crossentropy',\n",
    "              optimizer='Adam',\n",
    "              metrics=['accuracy'])\n",
    "history = model.fit(x_train, y_train,\n",
    "                    batch_size=256,\n",
    "                    epochs=10,\n",
    "                    verbose=1,\n",
    "                    validation_data=(x_test, y_test))"
   ]
  },
  {
   "cell_type": "code",
   "execution_count": 43,
   "metadata": {},
   "outputs": [
    {
     "name": "stdout",
     "output_type": "stream",
     "text": [
      "One  Layer  with  28*28  BW  Image:  0.20 million parameters\n",
      "One Layer with 512*512 colored Image:  201.33 million parameters\n",
      "One Layer with 1024*1024 colored Image:  805.31 million parameters\n"
     ]
    }
   ],
   "source": [
    "model1 = Sequential() \n",
    "model1.add(Dense(256, activation='relu', input_shape=(28*28,))) \n",
    "print \"One  Layer  with  28*28  BW  Image: \",\"%.2f\"%(model1.count_params()/1000000.0), \"million parameters\"\n",
    "model2 = Sequential() # For RGB colored 512*512 images\n",
    "model2.add(Dense(256, activation='relu', input_shape=(512*512*3,))) \n",
    "print \"One Layer with 512*512 colored Image: \", \"%.2f\"%(model2.count_params()/1000000.0), \"million parameters\"\n",
    "model3 = Sequential() # For RGB colored 512*512 images\n",
    "model3.add(Dense(256, activation='relu', input_shape=(1024*1024*3,))) \n",
    "print \"One Layer with 1024*1024 colored Image: \", \"%.2f\"%(model3.count_params()/1000000.0), \"million parameters\""
   ]
  },
  {
   "cell_type": "markdown",
   "metadata": {},
   "source": [
    "## Convolutional Neural Networks ![CNN](imgs/cnn.jpeg)\n",
    "source : MathWorks (https://goo.gl/zondfq)"
   ]
  },
  {
   "cell_type": "code",
   "execution_count": null,
   "metadata": {},
   "outputs": [],
   "source": [
    "from tensorflow.contrib.keras.python.keras.layers import Convolution2D, MaxPooling2D,Flatten\n",
    "modelconv = Sequential()\n",
    "modelconv.add(Convolution2D(256,3,3, padding='valid', input_shape=(28,28,1)))\n",
    "modelconv.add(MaxPooling2D(pool_size=(2,2)))\n",
    "modelconv.add(Dropout(0.2))\n",
    "modelconv.add(Flatten())\n",
    "modelconv.add(Dense(64, activation='relu')) # must match the number of classes in the dataset\n",
    "modelconv.add(Dropout(0.5))\n",
    "modelconv.add(Dense(10, activation='softmax')) # must match the number of classes in the dataset\n",
    "print \"Model size: %.2f\"%(modelconv.count_params()/1000000.0), \"million parameters\""
   ]
  },
  {
   "cell_type": "code",
   "execution_count": null,
   "metadata": {},
   "outputs": [],
   "source": [
    "x_train = x_train.reshape(x_train.shape[0], 28,28, 1)\n",
    "x_test = x_test.reshape(x_test.shape[0], 28,28, 1)\n",
    "modelconv.compile(loss='categorical_crossentropy',\n",
    "              optimizer='Adam',\n",
    "              metrics=['accuracy'])\n",
    "historyconv = modelconv.fit(x_train, y_train,\n",
    "                    batch_size=256,\n",
    "                    epochs=10,\n",
    "                    verbose=1,\n",
    "                    validation_data=(x_test, y_test))"
   ]
  }
 ],
 "metadata": {
  "kernelspec": {
   "display_name": "Python 2",
   "language": "python",
   "name": "python2"
  },
  "language_info": {
   "codemirror_mode": {
    "name": "ipython",
    "version": 2
   },
   "file_extension": ".py",
   "mimetype": "text/x-python",
   "name": "python",
   "nbconvert_exporter": "python",
   "pygments_lexer": "ipython2",
   "version": "2.7.14"
  }
 },
 "nbformat": 4,
 "nbformat_minor": 2
}
